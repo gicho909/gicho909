{
  "nbformat": 4,
  "nbformat_minor": 0,
  "metadata": {
    "colab": {
      "provenance": [],
      "authorship_tag": "ABX9TyMs/Q+HIRyQIeczKMgc65cB",
      "include_colab_link": true
    },
    "kernelspec": {
      "name": "python3",
      "display_name": "Python 3"
    },
    "language_info": {
      "name": "python"
    },
    "accelerator": "GPU",
    "gpuClass": "standard"
  },
  "cells": [
    {
      "cell_type": "markdown",
      "metadata": {
        "id": "view-in-github",
        "colab_type": "text"
      },
      "source": [
        "<a href=\"https://colab.research.google.com/github/gicho909/gicho909/blob/main/helloworld.ipynb\" target=\"_parent\"><img src=\"https://colab.research.google.com/assets/colab-badge.svg\" alt=\"Open In Colab\"/></a>"
      ]
    },
    {
      "cell_type": "code",
      "execution_count": null,
      "metadata": {
        "colab": {
          "base_uri": "https://localhost:8080/"
        },
        "id": "nAbtchDnbbzS",
        "outputId": "a22d9d92-add2-45d7-fea5-88e0cff9f8bf"
      },
      "outputs": [
        {
          "output_type": "stream",
          "name": "stdout",
          "text": [
            "hello world\n"
          ]
        }
      ],
      "source": [
        "print('hello world')"
      ]
    },
    {
      "cell_type": "code",
      "source": [
        "import tensorflow as tf\n"
      ],
      "metadata": {
        "id": "W0dxSs6gbeWz"
      },
      "execution_count": 1,
      "outputs": []
    },
    {
      "cell_type": "markdown",
      "source": [
        "# text 1\n",
        "## text2\n",
        "What's this for?\n",
        " * Is it a markdown doc?\n",
        " ``` hi ```\n",
        " ```code\\n```\n",
        " int i;\n",
        " ```code```\n"
      ],
      "metadata": {
        "id": "4htXTRQ6thp_"
      }
    },
    {
      "cell_type": "code",
      "source": [
        "!ls; cd sample_data; ls; pwd"
      ],
      "metadata": {
        "colab": {
          "base_uri": "https://localhost:8080/"
        },
        "id": "2OcopSsIt3gm",
        "outputId": "31ce18a6-55f7-43b1-abc8-fc5b87165e35"
      },
      "execution_count": 3,
      "outputs": [
        {
          "output_type": "stream",
          "name": "stdout",
          "text": [
            "sample_data\n",
            "anscombe.json\t\t      mnist_test.csv\n",
            "california_housing_test.csv   mnist_train_small.csv\n",
            "california_housing_train.csv  README.md\n",
            "/content/sample_data\n"
          ]
        }
      ]
    },
    {
      "cell_type": "code",
      "source": [
        "!cd ..; ls; pwd; ls -asF"
      ],
      "metadata": {
        "colab": {
          "base_uri": "https://localhost:8080/"
        },
        "id": "Kc0nplZNt_B_",
        "outputId": "f8f6f393-13f5-412c-8e84-5956877d7d3d"
      },
      "execution_count": 6,
      "outputs": [
        {
          "output_type": "stream",
          "name": "stdout",
          "text": [
            "bin\t dev   lib32   mnt\t\t\t root  sys    var\n",
            "boot\t etc   lib64   NGC-DL-CONTAINER-LICENSE  run   tmp\n",
            "content  home  libx32  opt\t\t\t sbin  tools\n",
            "datalab  lib   media   proc\t\t\t srv   usr\n",
            "/\n",
            "total 96\n",
            " 4 ./\t      0 dev/\t      0 lib64@\t\t\t   0 proc/   4 tmp/\n",
            " 4 ../\t      0 .dockerenv*   0 libx32@\t\t\t   8 root/   4 tools/\n",
            " 0 bin@       4 etc/\t      4 media/\t\t\t   4 run/    8 usr/\n",
            " 4 boot/      4 home/\t      4 mnt/\t\t\t   0 sbin@   8 var/\n",
            " 4 content/   0 lib@\t     16 NGC-DL-CONTAINER-LICENSE   4 srv/\n",
            " 4 datalab/   0 lib32@\t      4 opt/\t\t\t   0 sys/\n"
          ]
        }
      ]
    },
    {
      "cell_type": "code",
      "source": [
        "!cd ~; ls; pwd"
      ],
      "metadata": {
        "colab": {
          "base_uri": "https://localhost:8080/"
        },
        "id": "xCEq7r9cuH6G",
        "outputId": "6f7d04fd-9c30-4544-e160-569676bf8be8"
      },
      "execution_count": 9,
      "outputs": [
        {
          "output_type": "stream",
          "name": "stdout",
          "text": [
            "/root\n"
          ]
        }
      ]
    },
    {
      "cell_type": "code",
      "source": [],
      "metadata": {
        "id": "-7CsBMnzuOkd"
      },
      "execution_count": null,
      "outputs": []
    }
  ]
}