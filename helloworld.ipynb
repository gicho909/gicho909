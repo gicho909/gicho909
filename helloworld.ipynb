{
  "nbformat": 4,
  "nbformat_minor": 0,
  "metadata": {
    "colab": {
      "provenance": [],
      "private_outputs": true,
      "authorship_tag": "ABX9TyPKZvNnzAIx6InRmFMX3fgW",
      "include_colab_link": true
    },
    "kernelspec": {
      "name": "python3",
      "display_name": "Python 3"
    },
    "language_info": {
      "name": "python"
    },
    "gpuClass": "standard",
    "accelerator": "GPU"
  },
  "cells": [
    {
      "cell_type": "markdown",
      "metadata": {
        "id": "view-in-github",
        "colab_type": "text"
      },
      "source": [
        "<a href=\"https://colab.research.google.com/github/gicho909/gicho909/blob/main/helloworld.ipynb\" target=\"_parent\"><img src=\"https://colab.research.google.com/assets/colab-badge.svg\" alt=\"Open In Colab\"/></a>"
      ]
    },
    {
      "cell_type": "code",
      "execution_count": null,
      "metadata": {
        "id": "nAbtchDnbbzS"
      },
      "outputs": [],
      "source": [
        "print('hello world')"
      ]
    },
    {
      "cell_type": "code",
      "source": [
        "import tensorflow as tf\n"
      ],
      "metadata": {
        "id": "W0dxSs6gbeWz"
      },
      "execution_count": null,
      "outputs": []
    },
    {
      "cell_type": "code",
      "source": [],
      "metadata": {
        "id": "bnjkJg-YwCG-"
      },
      "execution_count": null,
      "outputs": []
    },
    {
      "cell_type": "markdown",
      "source": [
        "# text 1\n",
        "\n",
        "<div class=\"markdown-google-sans\">\n",
        "## text2\n",
        "What's this for?\n",
        " * Is it a markdown doc?\n",
        "</div>\n"
      ],
      "metadata": {
        "id": "4htXTRQ6thp_"
      }
    },
    {
      "cell_type": "code",
      "source": [
        "!cd ..; ls; pwd; ls -asF"
      ],
      "metadata": {
        "id": "Kc0nplZNt_B_"
      },
      "execution_count": null,
      "outputs": []
    },
    {
      "cell_type": "code",
      "source": [
        "!cd ~; ls; pwd"
      ],
      "metadata": {
        "id": "xCEq7r9cuH6G"
      },
      "execution_count": null,
      "outputs": []
    },
    {
      "cell_type": "code",
      "source": [
        "import platform\n",
        "platform.platform()"
      ],
      "metadata": {
        "id": "-7CsBMnzuOkd"
      },
      "execution_count": null,
      "outputs": []
    },
    {
      "cell_type": "markdown",
      "source": [
        "# Section2. What's the section?\n",
        "text1.\n",
        "\n",
        "|left adjusted col | the second col | last column |\n",
        "|:---|---:|:---:|\n",
        "| John | dough | major |\n",
        "| Who is | the man | on the ground? |\n",
        "\n",
        "```\n",
        "  int i = 10;\n",
        "  def func():\n",
        "    let x = 0\n",
        "```\n",
        "`which language`\n",
        "\n"
      ],
      "metadata": {
        "id": "7rf22Geyvw8u"
      }
    },
    {
      "cell_type": "code",
      "source": [
        "!cat /proc/cpuinfo"
      ],
      "metadata": {
        "id": "HuxcR1yDv4sS"
      },
      "execution_count": null,
      "outputs": []
    },
    {
      "cell_type": "code",
      "source": [
        "!df -h"
      ],
      "metadata": {
        "id": "9ylUa6HkxGYA"
      },
      "execution_count": null,
      "outputs": []
    },
    {
      "cell_type": "code",
      "source": [
        "!nvidia-smi"
      ],
      "metadata": {
        "id": "PI2vy4gUxPBn"
      },
      "execution_count": null,
      "outputs": []
    },
    {
      "cell_type": "code",
      "source": [
        "%%writefile test.txt\n",
        "testtt\n",
        "second line\n",
        "# not comment but h1 section"
      ],
      "metadata": {
        "id": "wBwr0JD5xlMm"
      },
      "execution_count": null,
      "outputs": []
    },
    {
      "cell_type": "code",
      "source": [
        "from google.colab import files\n",
        "files.download('test.txt')\n"
      ],
      "metadata": {
        "id": "cYZcesrsxz73"
      },
      "execution_count": null,
      "outputs": []
    },
    {
      "cell_type": "code",
      "source": [
        "upload = files.upload()"
      ],
      "metadata": {
        "id": "x_9R9XEDx3rf"
      },
      "execution_count": null,
      "outputs": []
    },
    {
      "cell_type": "code",
      "source": [
        "from google.colab import drive\n",
        "drive.mount('content/drive')"
      ],
      "metadata": {
        "id": "71KsLtF9zRo2"
      },
      "execution_count": null,
      "outputs": []
    },
    {
      "cell_type": "code",
      "source": [
        "!ls content/drive"
      ],
      "metadata": {
        "id": "yTrPs8_m0bCm"
      },
      "execution_count": null,
      "outputs": []
    },
    {
      "cell_type": "code",
      "source": [
        "help(min)"
      ],
      "metadata": {
        "id": "3KNid1yt0x3g"
      },
      "execution_count": null,
      "outputs": []
    },
    {
      "cell_type": "code",
      "source": [
        "min?"
      ],
      "metadata": {
        "id": "1FOq7cnw15zg"
      },
      "execution_count": null,
      "outputs": []
    },
    {
      "cell_type": "code",
      "source": [
        "def add(a, b):\n",
        "  \"\"\"a plus b\"\"\"\n",
        "  return a+b\n",
        "add(1, 2)"
      ],
      "metadata": {
        "id": "B_g9fMyd2HmG"
      },
      "execution_count": null,
      "outputs": []
    },
    {
      "cell_type": "code",
      "source": [
        "add??\n"
      ],
      "metadata": {
        "id": "wo853R233MzX"
      },
      "execution_count": null,
      "outputs": []
    },
    {
      "cell_type": "code",
      "source": [
        "%timeit li = [n**n for n in range(10000)]"
      ],
      "metadata": {
        "id": "KSjXsm903PZw"
      },
      "execution_count": null,
      "outputs": []
    },
    {
      "cell_type": "code",
      "source": [],
      "metadata": {
        "id": "vS75geO84bb_"
      },
      "execution_count": null,
      "outputs": []
    }
  ]
}